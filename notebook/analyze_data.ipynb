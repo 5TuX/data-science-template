{
 "cells": [
  {
   "cell_type": "code",
   "execution_count": null,
   "id": "b03a8b86",
   "metadata": {},
   "outputs": [],
   "source": [
    "%load_ext nb_black"
   ]
  },
  {
   "cell_type": "code",
   "execution_count": null,
   "id": "d44a5302",
   "metadata": {},
   "outputs": [],
   "source": [
    "import pandas as pd\n",
    "import seaborn as sns\n",
    "import matplotlib.pyplot as plt\n",
    "from IPython.core.pylabtools import figsize\n",
    "from pandasgui import show\n",
    "import plotly.express as px"
   ]
  },
  {
   "cell_type": "code",
   "execution_count": null,
   "id": "368da98b",
   "metadata": {},
   "outputs": [],
   "source": [
    "df = pd.read_pickle(\"../data/processed/processed_data\")"
   ]
  },
  {
   "cell_type": "code",
   "execution_count": null,
   "id": "1922887c",
   "metadata": {},
   "outputs": [],
   "source": [
    "fig = px.box(\n",
    "    data_frame=df,\n",
    "    x=\"total_children\",\n",
    "    y=\"total_purchases\",\n",
    ")\n",
    "fig"
   ]
  },
  {
   "cell_type": "code",
   "execution_count": null,
   "id": "7922045e",
   "metadata": {},
   "outputs": [],
   "source": [
    "px.box(data_frame=df, x=\"family_size\", y=\"total_purchases\")"
   ]
  },
  {
   "cell_type": "code",
   "execution_count": null,
   "id": "17b86ea5",
   "metadata": {},
   "outputs": [],
   "source": [
    "px.box(\n",
    "    data_frame=df,\n",
    "    x=\"enrollment_years\",\n",
    "    y=\"total_purchases\",\n",
    ")"
   ]
  },
  {
   "cell_type": "code",
   "execution_count": null,
   "id": "13e4a6b7",
   "metadata": {},
   "outputs": [],
   "source": [
    "bshow(df)"
   ]
  },
  {
   "cell_type": "code",
   "execution_count": null,
   "id": "c4724e5a",
   "metadata": {},
   "outputs": [],
   "source": []
  }
 ],
 "metadata": {
  "hide_input": false,
  "kernelspec": {
   "display_name": "customer_segmentation",
   "language": "python",
   "name": "customer_segmentation"
  },
  "language_info": {
   "codemirror_mode": {
    "name": "ipython",
    "version": 3
   },
   "file_extension": ".py",
   "mimetype": "text/x-python",
   "name": "python",
   "nbconvert_exporter": "python",
   "pygments_lexer": "ipython3",
   "version": "3.8.10"
  },
  "toc": {
   "base_numbering": 1,
   "nav_menu": {},
   "number_sections": true,
   "sideBar": true,
   "skip_h1_title": false,
   "title_cell": "Table of Contents",
   "title_sidebar": "Contents",
   "toc_cell": false,
   "toc_position": {},
   "toc_section_display": true,
   "toc_window_display": false
  }
 },
 "nbformat": 4,
 "nbformat_minor": 5
}
