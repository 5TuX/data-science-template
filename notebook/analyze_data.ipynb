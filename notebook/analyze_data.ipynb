{
 "cells": [
  {
   "cell_type": "code",
   "execution_count": null,
   "id": "0c5b48c8",
   "metadata": {},
   "outputs": [],
   "source": [
    "%load_ext nb_black"
   ]
  },
  {
   "cell_type": "code",
   "execution_count": null,
   "id": "e8068919",
   "metadata": {},
   "outputs": [],
   "source": [
    "import pandas as pd\n",
    "import numpy as np\n",
    "import matplotlib.pyplot as plt\n",
    "import seaborn as sns\n",
    "from kneed import KneeLocator\n",
    "from sklearn.datasets import make_blobs\n",
    "from sklearn.cluster import KMeans\n",
    "from sklearn.metrics import silhouette_score\n",
    "from sklearn.preprocessing import StandardScaler\n",
    "from sklearn.decomposition import PCA\n",
    "from mpl_toolkits.mplot3d import Axes3D\n",
    "import plotly.express as px"
   ]
  },
  {
   "cell_type": "code",
   "execution_count": null,
   "id": "4f8ea404",
   "metadata": {},
   "outputs": [],
   "source": [
    "from pandasgui import show"
   ]
  },
  {
   "cell_type": "code",
   "execution_count": null,
   "id": "b075c166",
   "metadata": {},
   "outputs": [],
   "source": [
    "df = pd.read_csv(\"../data/marketing_campaign.csv\", sep=\"\\t\")"
   ]
  },
  {
   "cell_type": "code",
   "execution_count": null,
   "id": "e1590cb9",
   "metadata": {},
   "outputs": [],
   "source": [
    "df.columns"
   ]
  },
  {
   "cell_type": "code",
   "execution_count": null,
   "id": "e76dfa17",
   "metadata": {},
   "outputs": [],
   "source": [
    "purchases_columns = df.columns[\n",
    "    (df.columns.str.startswith(\"Num\")) & (df.columns.str.endswith(\"Purchases\"))\n",
    "]\n",
    "df[\"Total_purchases\"] = df[purchases_columns].sum(axis=1)"
   ]
  },
  {
   "cell_type": "code",
   "execution_count": null,
   "id": "2b8074d9",
   "metadata": {},
   "outputs": [],
   "source": [
    "corr = df[\n",
    "    [\n",
    "        \"NumDealsPurchases\",\n",
    "        \"NumWebPurchases\",\n",
    "        \"NumCatalogPurchases\",\n",
    "        \"NumStorePurchases\",\n",
    "        \"Total_purchases\",\n",
    "        \"NumWebVisitsMonth\",\n",
    "    ]\n",
    "].corr()\n",
    "\n",
    "sns.heatmap(corr, annot=True)\n",
    "plt.show()"
   ]
  },
  {
   "cell_type": "code",
   "execution_count": null,
   "id": "f3de025b",
   "metadata": {},
   "outputs": [],
   "source": [
    "px.histogram(data_frame=df, x=\"Total_purchases\")"
   ]
  },
  {
   "cell_type": "code",
   "execution_count": null,
   "id": "2b5ece88",
   "metadata": {},
   "outputs": [],
   "source": [
    "df.Education = df.Education.astype(\"category\")\n",
    "df.Education.cat.set_categories(\n",
    "    [\"Basic\", \"2n Cycle\", \"Graduation\", \"Master\", \"PhD\"], ordered=True, inplace=True\n",
    ")"
   ]
  },
  {
   "cell_type": "code",
   "execution_count": null,
   "id": "e58a5d4c",
   "metadata": {},
   "outputs": [],
   "source": [
    "px.box(data_frame=df, x=\"Education\", y=\"Total_purchases\").update_xaxes(\n",
    "    categoryorder=\"category ascending\"\n",
    ")"
   ]
  },
  {
   "cell_type": "code",
   "execution_count": null,
   "id": "06aaff7e",
   "metadata": {},
   "outputs": [],
   "source": [
    "df.Kidhome.value_counts()"
   ]
  },
  {
   "cell_type": "code",
   "execution_count": null,
   "id": "a74c55a4",
   "metadata": {},
   "outputs": [],
   "source": [
    "px.histogram(data_frame=df, x=\"Kidhome\")"
   ]
  },
  {
   "cell_type": "code",
   "execution_count": null,
   "id": "81489a64",
   "metadata": {},
   "outputs": [],
   "source": [
    "amount_columns = df.columns[df.columns.str.startswith(\"Mn\")]"
   ]
  },
  {
   "cell_type": "code",
   "execution_count": null,
   "id": "3b746db3",
   "metadata": {},
   "outputs": [],
   "source": [
    "amount_df = df.melt(\n",
    "    id_vars=[\"Kidhome\"], value_vars=amount_columns, var_name=\"Purchase_Type\"\n",
    ")\n",
    "amount_df"
   ]
  },
  {
   "cell_type": "code",
   "execution_count": null,
   "id": "3977dcf5",
   "metadata": {},
   "outputs": [],
   "source": [
    "px.box(data_frame=amount_df, x=\"Kidhome\", y=\"value\", color=\"Purchase_Type\")"
   ]
  },
  {
   "cell_type": "code",
   "execution_count": null,
   "id": "248cffbe",
   "metadata": {},
   "outputs": [],
   "source": [
    "median_amount_df = (\n",
    "    amount_df.groupby([\"Purchase_Type\", \"Kidhome\"])\n",
    "    .agg({\"value\": \"median\"})\n",
    "    .reset_index()\n",
    ")"
   ]
  },
  {
   "cell_type": "code",
   "execution_count": null,
   "id": "e88aba7d",
   "metadata": {},
   "outputs": [],
   "source": [
    "median_amount_df.Kidhome = median_amount_df.Kidhome.astype(\"category\")"
   ]
  },
  {
   "cell_type": "code",
   "execution_count": null,
   "id": "ec501b2d",
   "metadata": {},
   "outputs": [],
   "source": [
    "px.bar(\n",
    "    data_frame=median_amount_df,\n",
    "    x=\"Purchase_Type\",\n",
    "    y=\"value\",\n",
    "    color=\"Kidhome\",\n",
    "    barmode=\"group\",\n",
    ")"
   ]
  },
  {
   "cell_type": "code",
   "execution_count": null,
   "id": "f83aff07",
   "metadata": {},
   "outputs": [],
   "source": [
    "df.columns"
   ]
  },
  {
   "cell_type": "code",
   "execution_count": null,
   "id": "89b2a386",
   "metadata": {},
   "outputs": [],
   "source": [
    "show(df)"
   ]
  },
  {
   "cell_type": "code",
   "execution_count": null,
   "id": "26056ed9",
   "metadata": {},
   "outputs": [],
   "source": []
  }
 ],
 "metadata": {
  "hide_input": false,
  "kernelspec": {
   "display_name": "customer_segmentation",
   "language": "python",
   "name": "customer_segmentation"
  },
  "language_info": {
   "codemirror_mode": {
    "name": "ipython",
    "version": 3
   },
   "file_extension": ".py",
   "mimetype": "text/x-python",
   "name": "python",
   "nbconvert_exporter": "python",
   "pygments_lexer": "ipython3",
   "version": "3.8.10"
  },
  "toc": {
   "base_numbering": 1,
   "nav_menu": {},
   "number_sections": true,
   "sideBar": true,
   "skip_h1_title": false,
   "title_cell": "Table of Contents",
   "title_sidebar": "Contents",
   "toc_cell": false,
   "toc_position": {},
   "toc_section_display": true,
   "toc_window_display": false
  }
 },
 "nbformat": 4,
 "nbformat_minor": 5
}
